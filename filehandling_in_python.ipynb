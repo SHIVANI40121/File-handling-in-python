{
  "nbformat": 4,
  "nbformat_minor": 0,
  "metadata": {
    "colab": {
      "provenance": [],
      "mount_file_id": "1Xd-2f_XHlZPHYozK3nJUOc3uXOJhlL1o",
      "authorship_tag": "ABX9TyNYN+Yp97NXipdGcHdHS/X6",
      "include_colab_link": true
    },
    "kernelspec": {
      "name": "python3",
      "display_name": "Python 3"
    },
    "language_info": {
      "name": "python"
    }
  },
  "cells": [
    {
      "cell_type": "markdown",
      "metadata": {
        "id": "view-in-github",
        "colab_type": "text"
      },
      "source": [
        "<a href=\"https://colab.research.google.com/github/SHIVANI40121/File-handling-in-python/blob/main/filehandling_in_python.ipynb\" target=\"_parent\"><img src=\"https://colab.research.google.com/assets/colab-badge.svg\" alt=\"Open In Colab\"/></a>"
      ]
    },
    {
      "cell_type": "code",
      "execution_count": null,
      "metadata": {
        "id": "QfkwYSKfywSO"
      },
      "outputs": [],
      "source": [
        "f=open(\"myfile.txt\",\"x\")\n"
      ]
    },
    {
      "cell_type": "code",
      "source": [
        "f=open(\"myfile.txt\",\"w\")\n",
        "f.write(\"today im studing flie handling in python.\")\n",
        "f.close()"
      ],
      "metadata": {
        "id": "X1L1BiQvy9h5"
      },
      "execution_count": null,
      "outputs": []
    },
    {
      "cell_type": "code",
      "source": [
        "f=open(\"myfile.txt\",\"r\")\n",
        "print(f.read())"
      ],
      "metadata": {
        "colab": {
          "base_uri": "https://localhost:8080/"
        },
        "id": "LxiqmfMIzSVL",
        "outputId": "2ac05872-2373-4373-b057-5feb09c45a9c"
      },
      "execution_count": null,
      "outputs": [
        {
          "output_type": "stream",
          "name": "stdout",
          "text": [
            "today im studing flie handling in python.\n"
          ]
        }
      ]
    },
    {
      "cell_type": "code",
      "source": [
        "f=open(\"myfile.txt\",\"w\")\n",
        "f.write(\"i want to built my career in data science \\n i want to become a data analyst\")\n",
        "f.close()"
      ],
      "metadata": {
        "id": "-IcGz9JpzfQa"
      },
      "execution_count": null,
      "outputs": []
    },
    {
      "cell_type": "code",
      "source": [
        "f=open(\"myfile.txt\",\"r\")\n",
        "print(f.readline())\n"
      ],
      "metadata": {
        "colab": {
          "base_uri": "https://localhost:8080/"
        },
        "id": "IoGFJkvX0ZHk",
        "outputId": "adf28a45-c8ca-4906-d096-b5754ab7872e"
      },
      "execution_count": null,
      "outputs": [
        {
          "output_type": "stream",
          "name": "stdout",
          "text": [
            "i want to built my career in data science \n",
            "\n"
          ]
        }
      ]
    },
    {
      "cell_type": "code",
      "source": [
        "f=open(\"myfile.txt\",\"r\")\n",
        "print(f.read())"
      ],
      "metadata": {
        "colab": {
          "base_uri": "https://localhost:8080/"
        },
        "id": "to0e8VSWzvrB",
        "outputId": "6f3805ec-4fa1-4f0d-97f2-0d88ff4a3a29"
      },
      "execution_count": null,
      "outputs": [
        {
          "output_type": "stream",
          "name": "stdout",
          "text": [
            "i want to built my career in data science \n",
            " i want to become a data analyst\n"
          ]
        }
      ]
    },
    {
      "cell_type": "code",
      "source": [
        "f=open(\"myfile.txt\",\"r\")\n",
        "print(f.read(5))"
      ],
      "metadata": {
        "colab": {
          "base_uri": "https://localhost:8080/"
        },
        "id": "syyWGYcS0tTq",
        "outputId": "0a005058-d7f0-4c38-bff7-24ea8bfe865c"
      },
      "execution_count": null,
      "outputs": [
        {
          "output_type": "stream",
          "name": "stdout",
          "text": [
            "i wan\n"
          ]
        }
      ]
    },
    {
      "cell_type": "code",
      "source": [
        "f=open(\"myfile.txt\",\"r\")\n",
        "for i in f:\n",
        "  print(i)"
      ],
      "metadata": {
        "colab": {
          "base_uri": "https://localhost:8080/"
        },
        "id": "FYRPSG0l07V7",
        "outputId": "497fac52-6579-4ee7-c8ef-15868cf5e92d"
      },
      "execution_count": null,
      "outputs": [
        {
          "output_type": "stream",
          "name": "stdout",
          "text": [
            "i want to built my career in data science \n",
            "\n",
            " i want to become a data analyst\n"
          ]
        }
      ]
    },
    {
      "cell_type": "code",
      "source": [
        "f=open(\"myfile.txt\",\"w\")\n",
        "f.write(\"myself shiv ,i think i have deleted the file \\n\")\n",
        "f.close()\n",
        "\n",
        "f=open(\"myfile.txt\",\"r\")\n",
        "print(f.read())\n",
        "\n"
      ],
      "metadata": {
        "colab": {
          "base_uri": "https://localhost:8080/"
        },
        "id": "4UCGlukG1bxK",
        "outputId": "92c8659b-a7d2-4cce-c96c-4b97aac2ccf7"
      },
      "execution_count": null,
      "outputs": [
        {
          "output_type": "stream",
          "name": "stdout",
          "text": [
            "myself shiv ,i think i have deleted the file \n",
            "\n"
          ]
        }
      ]
    },
    {
      "cell_type": "code",
      "source": [
        "f=open(\"myfile.txt\",\"a\")\n",
        "f.write('hoorey,added  the content')\n",
        "f.close()\n",
        "\n",
        "f=open(\"myfile.txt\",\"r\")\n",
        "print(f.read())"
      ],
      "metadata": {
        "colab": {
          "base_uri": "https://localhost:8080/"
        },
        "id": "xg8TqF9D12Wv",
        "outputId": "90ce3eab-eb40-47c3-86a8-cbfc3e978239"
      },
      "execution_count": null,
      "outputs": [
        {
          "output_type": "stream",
          "name": "stdout",
          "text": [
            "hoorey,added  the contenthoorey,added  the content\n"
          ]
        }
      ]
    },
    {
      "cell_type": "code",
      "source": [
        "f=open(\"myfile.txt\",\"w\")\n",
        "l=['hello\\n','hi\\n','how are you\\n','i am fine']\n",
        "f.writelines(l)\n",
        "f.close()\n",
        "\n",
        "f=open(\"myfile.txt\",\"r\")\n",
        "print(f.read())"
      ],
      "metadata": {
        "colab": {
          "base_uri": "https://localhost:8080/"
        },
        "id": "mazbs-lf7D-u",
        "outputId": "b21c93bf-e6f5-4b0d-9925-b480f25d3f03"
      },
      "execution_count": null,
      "outputs": [
        {
          "output_type": "stream",
          "name": "stdout",
          "text": [
            "hello\n",
            "hi\n",
            "how are you\n",
            "i am fine\n"
          ]
        }
      ]
    },
    {
      "cell_type": "code",
      "source": [
        "import os\n",
        "os.remove(\"myfile.txt\")\n"
      ],
      "metadata": {
        "id": "uTxAnFGC2T5w"
      },
      "execution_count": null,
      "outputs": []
    },
    {
      "cell_type": "code",
      "source": [
        "import os\n",
        "\n",
        "if os.path.exists(\"myfile.txt\"):\n",
        "  os.remove(\"myfile.txt\")\n",
        "else:\n",
        "  print(\"the file doesnt exists\")"
      ],
      "metadata": {
        "colab": {
          "base_uri": "https://localhost:8080/"
        },
        "id": "eCVwbFCD3FZG",
        "outputId": "ff55bb33-3f49-45e9-9cc3-1b19bbbda719"
      },
      "execution_count": null,
      "outputs": [
        {
          "output_type": "stream",
          "name": "stdout",
          "text": [
            "the file doesnt exists\n"
          ]
        }
      ]
    },
    {
      "cell_type": "code",
      "source": [
        "#to delete entire folder\n",
        "#os.rmdir(\".......\")"
      ],
      "metadata": {
        "id": "mbr-xiEd3apz"
      },
      "execution_count": null,
      "outputs": []
    },
    {
      "cell_type": "code",
      "source": [
        "#using with\n",
        "with open('myfile1.txt','w') as f:\n",
        "  f.write(\"shivani is a brave girl\")"
      ],
      "metadata": {
        "id": "E29dslbmedDy"
      },
      "execution_count": null,
      "outputs": []
    },
    {
      "cell_type": "code",
      "source": [
        "with open('myfile1.txt','r') as f:\n",
        "  print(f.read())"
      ],
      "metadata": {
        "colab": {
          "base_uri": "https://localhost:8080/"
        },
        "id": "XJY534NC5q_X",
        "outputId": "a0e5c301-26d9-4f87-a14d-0bc897953900"
      },
      "execution_count": null,
      "outputs": [
        {
          "output_type": "stream",
          "name": "stdout",
          "text": [
            "shivani is a brave girl\n"
          ]
        }
      ]
    },
    {
      "cell_type": "code",
      "source": [
        "with open('myfile1.txt','r') as f:\n",
        "  print(f.read(2))\n",
        "  print(f.read(1))"
      ],
      "metadata": {
        "colab": {
          "base_uri": "https://localhost:8080/"
        },
        "id": "Au_oSA50gLf_",
        "outputId": "1eedbc17-3025-4d10-eced-e527a969c2ea"
      },
      "execution_count": null,
      "outputs": [
        {
          "output_type": "stream",
          "name": "stdout",
          "text": [
            "sh\n",
            "i\n"
          ]
        }
      ]
    },
    {
      "cell_type": "code",
      "source": [
        "bigl=['hello world' for i in range(100)]\n",
        "with open('bigl.txt','w') as f:\n",
        "  f.writelines(bigl)\n"
      ],
      "metadata": {
        "id": "HhfrJskGgbOm"
      },
      "execution_count": null,
      "outputs": []
    },
    {
      "cell_type": "code",
      "source": [
        "#with chunks\n",
        "with open('bigl.txt','r') as f:\n",
        "  chunksize=10\n",
        "  while len(f.read(chunksize))>0:\n",
        "    print(f.read(chunksize),end=\"*\")\n",
        "    f.read(chunksize)\n"
      ],
      "metadata": {
        "colab": {
          "base_uri": "https://localhost:8080/"
        },
        "id": "jtQi7_pBhC8j",
        "outputId": "b8ae6ffb-824d-4ab1-f469-4fd026693d06"
      },
      "execution_count": null,
      "outputs": [
        {
          "output_type": "stream",
          "name": "stdout",
          "text": [
            "dhello wor*orldhello *o worldhel*ello world*ldhello wo*worldhello*lo worldhe*hello worl*rldhello w* worldhell*llo worldh*dhello wor*orldhello *o worldhel*ello world*ldhello wo*worldhello*lo worldhe*hello worl*rldhello w* worldhell*llo worldh*dhello wor*orldhello *o worldhel*ello world*ldhello wo*worldhello*lo worldhe*hello worl*rldhello w* worldhell*llo worldh*dhello wor*orldhello *o worldhel*ello world*"
          ]
        }
      ]
    },
    {
      "cell_type": "code",
      "source": [
        "#seek and tell function\n",
        "with open(\"myfile1.txt\",'r') as f:\n",
        "  print(f.read(10))\n",
        "  print(f.tell())\n",
        "  f.seek(0)\n",
        "  print(f.read(15))"
      ],
      "metadata": {
        "colab": {
          "base_uri": "https://localhost:8080/"
        },
        "id": "bl9nnsFsh1og",
        "outputId": "c6690787-c95a-41c1-b76b-930f47506eea"
      },
      "execution_count": null,
      "outputs": [
        {
          "output_type": "stream",
          "name": "stdout",
          "text": [
            "shivani is\n",
            "10\n",
            "shivani is a br\n"
          ]
        }
      ]
    },
    {
      "cell_type": "code",
      "source": [
        "#seek during write\n",
        "with open('myfile1.txt','w') as f:\n",
        "  f.write('hello')\n",
        "  f.seek(0)\n",
        "  f.write('x')\n",
        "with open('myfile1.txt','r') as f:\n",
        "  print(f.read())"
      ],
      "metadata": {
        "colab": {
          "base_uri": "https://localhost:8080/"
        },
        "id": "e7-7BPnBiqk7",
        "outputId": "78695ff6-bd8f-4562-f122-707e895b0895"
      },
      "execution_count": null,
      "outputs": [
        {
          "output_type": "stream",
          "name": "stdout",
          "text": [
            "xello\n"
          ]
        }
      ]
    },
    {
      "cell_type": "code",
      "source": [
        "#working with binary file\n",
        "with open('roadmap.png','rb') as f:\n",
        "  with open('roadmap1.png','wb') as wf:\n",
        "    wf.write(f.read())"
      ],
      "metadata": {
        "id": "spa9UYqZjSkT"
      },
      "execution_count": null,
      "outputs": []
    },
    {
      "cell_type": "code",
      "source": [
        "#working with integers\n",
        "with open('myfile1.txt','w') as f:\n",
        "  f.write('5')\n",
        "with open('myfile1.txt','r') as f:\n",
        "  print(int(f.read())+5)\n",
        "# as it only takes string format"
      ],
      "metadata": {
        "colab": {
          "base_uri": "https://localhost:8080/"
        },
        "id": "-SMhQbupmD-S",
        "outputId": "5c44c318-7021-4891-ce88-72b3a0a725a5"
      },
      "execution_count": null,
      "outputs": [
        {
          "output_type": "stream",
          "name": "stdout",
          "text": [
            "10\n"
          ]
        }
      ]
    },
    {
      "cell_type": "code",
      "source": [
        "#complex data(write)\n",
        "d={\n",
        "    'name':'shivani',\n",
        "    'age':21,\n",
        "    'gender':'female'\n",
        "}\n",
        "with open('sample.txt','w') as f:\n",
        "  f.write(str(d))"
      ],
      "metadata": {
        "id": "9o-Jj7RFnEWc"
      },
      "execution_count": null,
      "outputs": []
    },
    {
      "cell_type": "code",
      "source": [
        "with open('sample.txt','r') as f:\n",
        "  print(f.read())"
      ],
      "metadata": {
        "colab": {
          "base_uri": "https://localhost:8080/"
        },
        "id": "j8U8_6r1ntWM",
        "outputId": "62091bdb-95cf-4601-d7a2-7c251bbc107b"
      },
      "execution_count": null,
      "outputs": [
        {
          "output_type": "stream",
          "name": "stdout",
          "text": [
            "{'name': 'shivani', 'age': 21, 'gender': 'female'}\n"
          ]
        }
      ]
    },
    {
      "cell_type": "code",
      "source": [
        "#serialization(dict)\n",
        "import json"
      ],
      "metadata": {
        "id": "cgQKs-C6nvmO"
      },
      "execution_count": null,
      "outputs": []
    },
    {
      "cell_type": "code",
      "source": [
        "d={\n",
        "    'name':'shivani',\n",
        "    'age':21,\n",
        "    'gender':'female'\n",
        "}\n",
        "with open('demo.json','w') as f:\n",
        "  json.dump(d,f)\n"
      ],
      "metadata": {
        "id": "ohEGHnw_oWvu"
      },
      "execution_count": null,
      "outputs": []
    },
    {
      "cell_type": "code",
      "source": [
        "d={\n",
        "    'name':'shivani',\n",
        "    'age':21,\n",
        "    'gender':'female'\n",
        "}\n",
        "with open('demo.json','w') as f:\n",
        "  json.dump(d,f,indent=5)"
      ],
      "metadata": {
        "id": "t4i4KXh2osID"
      },
      "execution_count": null,
      "outputs": []
    },
    {
      "cell_type": "code",
      "source": [
        "#deserialization(dict)\n",
        "import json"
      ],
      "metadata": {
        "id": "sAQQUo0Ko1FD"
      },
      "execution_count": null,
      "outputs": []
    },
    {
      "cell_type": "code",
      "source": [
        "with open('demo.json','r') as f:\n",
        "  d=json.load(f)\n",
        "  print(d)\n",
        "  print(type(d))"
      ],
      "metadata": {
        "colab": {
          "base_uri": "https://localhost:8080/"
        },
        "id": "Ozh_JnaUo7Vc",
        "outputId": "5f6b94e9-816c-456a-ba29-a9e82a5b61e7"
      },
      "execution_count": null,
      "outputs": [
        {
          "output_type": "stream",
          "name": "stdout",
          "text": [
            "{'name': 'shivani', 'age': 21, 'gender': 'female'}\n",
            "<class 'dict'>\n"
          ]
        }
      ]
    },
    {
      "cell_type": "code",
      "source": [
        "#serilization(tuple)\n",
        "# if u dump a tuple it will give list,if u deserialize also it will give list only,you dont get tuple\n",
        "t=(1,2,3,4,5)\n",
        "with open('demo.json','w') as f:\n",
        "  json.dump(t,f)"
      ],
      "metadata": {
        "id": "JQAe1OvypIp-"
      },
      "execution_count": null,
      "outputs": []
    },
    {
      "cell_type": "code",
      "source": [
        "#serialization of custom objects\n",
        "class Person:\n",
        "  def __init__(self,fname,lname,age,gender):\n",
        "    self.fname=fname\n",
        "    self.lname=lname\n",
        "    self.age=age\n",
        "    self.gender=gender\n",
        "\n",
        "person=Person('shivani','peta',21,'female')"
      ],
      "metadata": {
        "id": "fY-5foL2qFEG"
      },
      "execution_count": null,
      "outputs": []
    },
    {
      "cell_type": "code",
      "source": [
        "import json\n",
        "def show_object(person):\n",
        "  if isinstance(person,Person):\n",
        "    return {'name':person.fname+' '+person.lname,'age':person.age,'gender':person.gender}\n",
        "\n",
        "\n",
        "\n",
        "with open('demo.json','w') as f:\n",
        "  json.dump(person,f,default=show_object,indent=4)"
      ],
      "metadata": {
        "id": "p0cqbtuGqjtK"
      },
      "execution_count": null,
      "outputs": []
    },
    {
      "cell_type": "code",
      "source": [
        "#deserialization of custom objects\n",
        "import json\n",
        "with open('demo.json','r') as f:\n",
        "  print(json.load(f))\n",
        "\n"
      ],
      "metadata": {
        "colab": {
          "base_uri": "https://localhost:8080/"
        },
        "id": "Rul3HqdTqsDu",
        "outputId": "16600ead-f664-443e-af01-dfd2fda5425a"
      },
      "execution_count": null,
      "outputs": [
        {
          "output_type": "stream",
          "name": "stdout",
          "text": [
            "{'name': 'shivani peta', 'age': 21, 'gender': 'female'}\n"
          ]
        }
      ]
    },
    {
      "cell_type": "code",
      "source": [
        "#pickling=the process where a python object hierarchy is converted to byte stream\n",
        "#unpickling=the process where a byte stream is converted to byte stream\n"
      ],
      "metadata": {
        "id": "ALRG6FmRsy3p"
      },
      "execution_count": null,
      "outputs": []
    },
    {
      "cell_type": "code",
      "source": [
        "import pickle"
      ],
      "metadata": {
        "id": "C7kYbsn8uLHS"
      },
      "execution_count": 1,
      "outputs": []
    },
    {
      "cell_type": "code",
      "source": [
        "class Person1:\n",
        "  def __init__(self,name,age):\n",
        "    self.name=name\n",
        "    self.age=age\n",
        "  def display_info(self):\n",
        "    print('hi my name is',self.name,'and i am',self.age,'years old')\n"
      ],
      "metadata": {
        "id": "AOaCKm_xtOq5"
      },
      "execution_count": 2,
      "outputs": []
    },
    {
      "cell_type": "code",
      "source": [
        "p = Person1('Shivani', 21)"
      ],
      "metadata": {
        "id": "zO05lveEtzmD"
      },
      "execution_count": 3,
      "outputs": []
    },
    {
      "cell_type": "code",
      "source": [
        "import pickle\n",
        "with open('Person.pkl','wb') as f:\n",
        "  pickle.dump(p,f)"
      ],
      "metadata": {
        "id": "iyxZnoL4uQEl"
      },
      "execution_count": 5,
      "outputs": []
    },
    {
      "cell_type": "code",
      "source": [
        "#unpickling\n",
        "with open('Person.pkl','rb') as f:\n",
        "  p=pickle.load(f)\n",
        "p.display_info()"
      ],
      "metadata": {
        "colab": {
          "base_uri": "https://localhost:8080/"
        },
        "id": "ZFGgwjnOt6yx",
        "outputId": "b8909604-781d-44ee-9258-66dff0f56549"
      },
      "execution_count": 6,
      "outputs": [
        {
          "output_type": "stream",
          "name": "stdout",
          "text": [
            "hi my name is Shivani and i am 21 years old\n"
          ]
        }
      ]
    }
  ]
}